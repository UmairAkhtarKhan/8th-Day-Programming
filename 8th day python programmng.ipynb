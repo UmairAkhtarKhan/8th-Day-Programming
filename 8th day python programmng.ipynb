{
 "cells": [
  {
   "cell_type": "code",
   "execution_count": 11,
   "id": "bcf7605a-2e52-4810-9bc0-ba49fe65fd01",
   "metadata": {},
   "outputs": [
    {
     "name": "stdout",
     "output_type": "stream",
     "text": [
      "[2, 4, 8, 10, 12]\n",
      "[8, 64, 512, 1000, 1728]\n",
      "[2, 4, 8, 10, 12]\n",
      "[8, 10, 12]\n",
      "[8, 64, 512, 1000, 1728]\n",
      "[8, 10, 12]\n"
     ]
    }
   ],
   "source": [
    "# map reduce and flter are builtiin functions that allow  to you apply a function on  a sequence(list,tuple etc) of elements and return ne sequence\n",
    "# these functions known as high order functions these takes other functions as argument\n",
    "# map functions apply a function on each element of sequence or iteratble(list,tuple etc) or any other object\n",
    "# map( function ,iteratable)\n",
    "def cube(x):\n",
    "    return x*x*x    \n",
    "l=[2,4,8,10,12]\n",
    "print(l)\n",
    "newli=list(map(cube,l) )\n",
    "print(newli)\n",
    "# filter functions filter the sequence(list,tuple etc) of elements based on predicate(a function retrn bolean value or \n",
    "# retrn only the element of sequence that meet the predicate )\n",
    "# filter( function or predicate ,iteratable)\n",
    "def f_func(a):\n",
    "    return a>4\n",
    "print(l)\n",
    "new1li=list(filter(f_func,l) )\n",
    "print(new1li)\n",
    "# we can use these functions ith lambda\n",
    "# map \n",
    "newnewli=list(map(lambda y:y*y*y,l))\n",
    "print(newnewli)\n",
    "# filter\n",
    "newnewli1=list(filter(lambda b:b>4,l))\n",
    "print(newnewli1)\n",
    "\n",
    "\n",
    "\n"
   ]
  },
  {
   "cell_type": "code",
   "execution_count": 18,
   "id": "31d113ab-2109-45c5-b249-3575438452e9",
   "metadata": {},
   "outputs": [
    {
     "name": "stdout",
     "output_type": "stream",
     "text": [
      "36\n",
      "36\n"
     ]
    }
   ],
   "source": [
    "# first we need to import reduce function from functools\n",
    "# reduce function reduce the sequence(list,tuple etc) into one single value\n",
    "# syntax reduce( function,iteratable)\n",
    "from functools import reduce\n",
    "def sum(x,y):\n",
    "    return x+y\n",
    "sumr=reduce(sum,l)\n",
    "print(sumr)\n",
    "sumr=reduce(lambda x,y:x+y,l)\n",
    "print(sumr)"
   ]
  },
  {
   "cell_type": "code",
   "execution_count": 21,
   "id": "f451a996-103f-4844-bf72-053e1358b304",
   "metadata": {},
   "outputs": [
    {
     "name": "stdout",
     "output_type": "stream",
     "text": [
      "is : True\n",
      "== : True\n",
      "is : False\n",
      "== : True\n"
     ]
    }
   ],
   "source": [
    "# is and == both are comparsion operator but the diferent between them is ,\n",
    "# is compaere exact memory location\n",
    "# == compare values\n",
    "# in below comparsion both will return true because we write constant ,in constant and immuteable sequence case python know they will not change,\n",
    "# so it will not create them on different places, it create on one place and refer on other place\n",
    "a=1\n",
    "b=1\n",
    "print(\"is :\",a is b)\n",
    "print(\"== :\",a ==b)\n",
    "# but in muteable seqences it will return false in is case because they know both are on different places,and return true in == case\n",
    "a1=[1,22,3]\n",
    "b1=[1,22,3]\n",
    "print(\"is :\",a1 is b1)\n",
    "print(\"== :\",a1==b1)"
   ]
  },
  {
   "cell_type": "code",
   "execution_count": null,
   "id": "574bbbdc-aafc-4768-92fb-dcf6b842616b",
   "metadata": {},
   "outputs": [],
   "source": [
    "# object oriented programming\n",
    "# in oop in python we use classes and objects to represent real world programming  concepts and entities\n",
    "# a class is blueprint or template for creating objects,it define the properties and method of that specfic class objects have \n",
    "# properties are data or state that class objects have and methods are behavior that  specfic class objects can perform\n",
    "#  class is template or blueprint and object is entity\n",
    "# encapsulation is one key feature of python ,encapsulation means internal state of information is hidden \n",
    "# and it is only accessed objects methods and modified or changed,this helps to protect the objects and\n",
    "# prevent the objects bieng modified in unexepectated ways\n",
    "# another key feature is inheritance that means create new class that inherit the properties and methods from  existing or oldclass \n",
    "# inheritance allos code reuse and make easy to create new classes that have simillar functionality with existing classes\n",
    "# polymorhism also supported in python,which means that the objects of different classes can be treated as the objects of same class\n",
    "# polymorhism allows more flexiblity in code,makes easier to code that work on different types of objects\n"
   ]
  },
  {
   "cell_type": "code",
   "execution_count": 28,
   "id": "cb5827ba-0f69-4f42-9834-50acf5d70d21",
   "metadata": {},
   "outputs": [
    {
     "name": "stdout",
     "output_type": "stream",
     "text": [
      "umair Software engineer 25 300000\n",
      "Sadqat Mechnacial engineer 25 200000\n"
     ]
    }
   ],
   "source": [
    "# syntax of objects and class\n",
    "# creating class\n",
    "class person:\n",
    "    # now we define properties of class\n",
    "    name='umair'\n",
    "    occupation='Software engineer'\n",
    "    age=25\n",
    "    salary=300000\n",
    "# creating a object of class\n",
    "a=person()\n",
    "print(a.name,a.occupation,a.age,a.salary)\n",
    "# if we want to create new object of person class that name,occupation ,age,salary is different\n",
    "b=person()\n",
    "b.name='Sadqat'\n",
    "b.occupation='Mechnacial engineer'\n",
    "b.age=25\n",
    "b.salary=200000\n",
    "print(b.name,b.occupation,b.age,b.salary)\n",
    "\n",
    "\n"
   ]
  },
  {
   "cell_type": "code",
   "execution_count": null,
   "id": "e20a5c3a-2697-4571-82d7-30818746d2d1",
   "metadata": {},
   "outputs": [],
   "source": []
  }
 ],
 "metadata": {
  "kernelspec": {
   "display_name": "Python 3 (ipykernel)",
   "language": "python",
   "name": "python3"
  },
  "language_info": {
   "codemirror_mode": {
    "name": "ipython",
    "version": 3
   },
   "file_extension": ".py",
   "mimetype": "text/x-python",
   "name": "python",
   "nbconvert_exporter": "python",
   "pygments_lexer": "ipython3",
   "version": "3.11.7"
  }
 },
 "nbformat": 4,
 "nbformat_minor": 5
}
